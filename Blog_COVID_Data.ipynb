{
 "cells": [
  {
   "cell_type": "code",
   "execution_count": 1,
   "metadata": {},
   "outputs": [],
   "source": [
    "import pandas as pd\n",
    "import numpy as np\n",
    "import datetime\n",
    "import matplotlib.pyplot as plt\n",
    "%matplotlib inline\n",
    "\n",
    "from sklearn.preprocessing import MinMaxScaler\n",
    "\n",
    "from scipy.stats import pearsonr\n",
    "from scipy.stats import spearmanr\n",
    "\n",
    "from sklearn.feature_selection import SelectKBest, SelectPercentile\n",
    "from sklearn.feature_selection import chi2, f_classif, mutual_info_classif\n",
    "from sklearn.feature_selection import f_regression, mutual_info_regression\n",
    "from sklearn.feature_selection import RFE\n",
    "\n",
    "from sklearn.model_selection import train_test_split\n",
    "from sklearn.ensemble import RandomForestRegressor, RandomForestClassifier\n",
    "from sklearn.metrics import r2_score, mean_squared_error, mean_absolute_error\n",
    "from sklearn.metrics import accuracy_score, precision_score, recall_score\n",
    "\n",
    "import data_utilities as du\n",
    "import model_utilities as mu"
   ]
  },
  {
   "cell_type": "code",
   "execution_count": 2,
   "metadata": {},
   "outputs": [
    {
     "name": "stderr",
     "output_type": "stream",
     "text": [
      "/Users/lquera/opt/anaconda3/envs/DSND/lib/python3.6/site-packages/IPython/core/interactiveshell.py:3051: DtypeWarning: Columns (2,3) have mixed types.Specify dtype option on import or set low_memory=False.\n",
      "  interactivity=interactivity, compiler=compiler, result=result)\n"
     ]
    }
   ],
   "source": [
    "filestring1 = 'DSND_covid19_policy_tracker.csv'\n",
    "filestring2 = 'worldmeter_info2020.csv'\n",
    "merge_field = 'country_name'\n",
    "covid = pd.read_csv(filestring1)\n",
    "demos = pd.read_csv(filestring2)\n",
    "covid = pd.merge(covid, demos, how='inner', on=merge_field)\n",
    "covid = covid.drop(columns=['Unnamed: 0'], axis=1)\n"
   ]
  },
  {
   "cell_type": "code",
   "execution_count": 3,
   "metadata": {},
   "outputs": [
    {
     "name": "stdout",
     "output_type": "stream",
     "text": [
      "<class 'pandas.core.frame.DataFrame'>\n",
      "Int64Index: 104877 entries, 0 to 104876\n",
      "Data columns (total 57 columns):\n",
      " #   Column                                   Non-Null Count   Dtype  \n",
      "---  ------                                   --------------   -----  \n",
      " 0   country_name                             104877 non-null  object \n",
      " 1   alpha_3_code                             104877 non-null  object \n",
      " 2   region_name                              37152 non-null   object \n",
      " 3   region_code                              37152 non-null   object \n",
      " 4   date                                     104877 non-null  object \n",
      " 5   school_closing                           102029 non-null  float64\n",
      " 6   school_closing_flag                      78892 non-null   float64\n",
      " 7   school_closing_notes                     4593 non-null    object \n",
      " 8   workplace_closing                        102023 non-null  float64\n",
      " 9   workplace_closing_flag                   72813 non-null   float64\n",
      " 10  workplace_closing_notes                  4803 non-null    object \n",
      " 11  cancel_public_events                     102058 non-null  float64\n",
      " 12  cancel_public_events_flag                78570 non-null   float64\n",
      " 13  cancel_public_events_notes               3937 non-null    object \n",
      " 14  restrictions_on_gatherings               102010 non-null  float64\n",
      " 15  restrictions_on_gatherings_flag          73630 non-null   float64\n",
      " 16  restrictions_on_gatherings_notes         4193 non-null    object \n",
      " 17  close_public_transit                     102042 non-null  float64\n",
      " 18  close_public_transit_flag                43864 non-null   float64\n",
      " 19  close_public_transit_notes               3033 non-null    object \n",
      " 20  stay_at_home_requirements                102025 non-null  float64\n",
      " 21  stay_at_home_requirements_flag           63611 non-null   float64\n",
      " 22  stay_at_home_requirements_notes          3696 non-null    object \n",
      " 23  restrictions_on_internal_movement        102052 non-null  float64\n",
      " 24  restrictions_on_internal_movement_flag   60355 non-null   float64\n",
      " 25  restrictions_on_internal_movement_notes  3604 non-null    object \n",
      " 26  international_travel_controls            101446 non-null  float64\n",
      " 27  international_travel_controls_notes      4886 non-null    object \n",
      " 28  income_support                           99774 non-null   float64\n",
      " 29  income_support_flag                      55712 non-null   float64\n",
      " 30  income_support_notes                     2499 non-null    object \n",
      " 31  debt_contract_relief                     99382 non-null   float64\n",
      " 32  debt_contract_relief_notes               2428 non-null    object \n",
      " 33  fiscal_measures                          79036 non-null   float64\n",
      " 34  fiscal_measures_notes                    1882 non-null    object \n",
      " 35  international_support                    79235 non-null   float64\n",
      " 36  international_support_notes              887 non-null     object \n",
      " 37  public_information_campaigns             101812 non-null  float64\n",
      " 38  public_information_campaigns_flag        90302 non-null   float64\n",
      " 39  public_information_campaigns_notes       2864 non-null    object \n",
      " 40  testing_policy                           101807 non-null  float64\n",
      " 41  testing_policy_notes                     3442 non-null    object \n",
      " 42  contact_tracing                          101699 non-null  float64\n",
      " 43  contact_tracing_notes                    2752 non-null    object \n",
      " 44  emergency_healthcare_investment          79519 non-null   float64\n",
      " 45  emergency_healthcare_investment_notes    1299 non-null    object \n",
      " 46  vaccine_investment                       79684 non-null   float64\n",
      " 47  vaccine_investment_notes                 922 non-null     object \n",
      " 48  misc_wildcard                            0 non-null       float64\n",
      " 49  misc_wildcard_notes                      1155 non-null    object \n",
      " 50  confirmed_cases                          95059 non-null   float64\n",
      " 51  deaths                                   94948 non-null   float64\n",
      " 52  stringency_index                         102668 non-null  float64\n",
      " 53  density                                  104877 non-null  float64\n",
      " 54  median_age                               104877 non-null  float64\n",
      " 55  population                               104877 non-null  float64\n",
      " 56  urban_perc                               104877 non-null  float64\n",
      "dtypes: float64(34), object(23)\n",
      "memory usage: 46.4+ MB\n"
     ]
    }
   ],
   "source": [
    "covid.info()"
   ]
  },
  {
   "cell_type": "markdown",
   "metadata": {},
   "source": [
    "#### Document preprocessing data transformations"
   ]
  },
  {
   "cell_type": "code",
   "execution_count": 48,
   "metadata": {
    "scrolled": true
   },
   "outputs": [
    {
     "data": {
      "text/plain": [
       "United States     16053\n",
       "Brazil             6508\n",
       "Canada             3046\n",
       "United Kingdom     1573\n",
       "China               365\n",
       "                  ...  \n",
       "Eritrea              28\n",
       "Mongolia             23\n",
       "Seychelles           14\n",
       "Bhutan               13\n",
       "Faeroe Islands        6\n",
       "Name: country_name, Length: 163, dtype: int64"
      ]
     },
     "execution_count": 48,
     "metadata": {},
     "output_type": "execute_result"
    }
   ],
   "source": [
    "covid['country_name'].value_counts()"
   ]
  },
  {
   "cell_type": "markdown",
   "metadata": {},
   "source": [
    "Some countries, eg. the United States and Brazil, include regions in their tracking, vastly multiplying their datapoints. In comparison, China is tracked in total, with one datapoint per day.  Add a 'geo' column to increase analytic flexibility."
   ]
  },
  {
   "cell_type": "code",
   "execution_count": 4,
   "metadata": {},
   "outputs": [],
   "source": [
    "# Cleaning and filling\n",
    "# drop all rows missing the target labels\n",
    "covid = covid.dropna(subset=['deaths','confirmed_cases'], axis=0)\n",
    "# drop all rows where target labels are zero\n",
    "covid = covid.loc[(covid['confirmed_cases'] > 0.0) & (covid['deaths'] > 0.0)]\n",
    "# drop all rows missing summary indicator\n",
    "covid = covid.loc[covid['stringency_index'].notnull()]\n",
    "# ensure date field is datetime to manipulate more easily\n",
    "covid['date'] = pd.to_datetime(covid['date'])\n",
    "# make regional data consistent: if NA, cumulative for the country\n",
    "covid['region_name'] = covid['region_name'].fillna('Total')\n",
    "# create a combined field to break up larger countries into regions\n",
    "covid['geo'] = covid['country_name'] + covid['region_name']\n",
    "# drop unused identifying columns\n",
    "covid = covid.drop(['alpha_3_code','region_code'], axis=1)\n",
    "# drop uncategorized policy columns\n",
    "covid = covid.drop(['misc_wildcard','misc_wildcard_notes'], axis=1)\n",
    "# subset the free text columns and drop them from main df\n",
    "cols_notes = ['school_closing_notes','workplace_closing_notes',\n",
    "             'cancel_public_events_notes','restrictions_on_gatherings_notes', \n",
    "             'stay_at_home_requirements_notes', 'restrictions_on_internal_movement_notes',\n",
    "             'international_travel_controls_notes','income_support_notes',\n",
    "             'debt_contract_relief_notes', 'fiscal_measures_notes', \n",
    "             'international_support_notes', 'public_information_campaigns_notes',\n",
    "             'testing_policy_notes', 'contact_tracing_notes',\n",
    "             'emergency_healthcare_investment_notes', 'vaccine_investment_notes']\n",
    "covid_notes = covid[list(covid[cols_notes])]\n",
    "covid = covid.drop(cols_notes, axis=1)\n",
    "\n"
   ]
  },
  {
   "cell_type": "code",
   "execution_count": 5,
   "metadata": {},
   "outputs": [],
   "source": [
    "# normalize the raw statistics by population\n",
    "covid['case_perc_pop'] = (covid['confirmed_cases'] / covid['population'])\n",
    "covid['death_perc_pop'] = (covid['deaths'] / covid['population'])"
   ]
  },
  {
   "cell_type": "code",
   "execution_count": 6,
   "metadata": {},
   "outputs": [
    {
     "name": "stderr",
     "output_type": "stream",
     "text": [
      "/Users/lquera/opt/anaconda3/envs/DSND/lib/python3.6/site-packages/pandas/core/indexes/base.py:4114: FutureWarning: Using a non-tuple sequence for multidimensional indexing is deprecated; use `arr[tuple(seq)]` instead of `arr[seq]`. In the future this will be interpreted as an array index, `arr[np.array(seq)]`, which will result either in an error or a different result.\n",
      "  result = getitem(key)\n",
      "/Users/lquera/opt/anaconda3/envs/DSND/lib/python3.6/site-packages/pandas/core/indexes/base.py:4114: FutureWarning: Using a non-tuple sequence for multidimensional indexing is deprecated; use `arr[tuple(seq)]` instead of `arr[seq]`. In the future this will be interpreted as an array index, `arr[np.array(seq)]`, which will result either in an error or a different result.\n",
      "  result = getitem(key)\n"
     ]
    }
   ],
   "source": [
    "# get the changes in target data over time\n",
    "covid['case_perc_change'] = np.round(covid['confirmed_cases'].pct_change(), decimals=2)\n",
    "covid['death_perc_change'] = np.round(covid['deaths'].pct_change(), decimals=2)\n",
    "# remove calculation infinites\n",
    "covid = covid.drop(covid.index[list(np.where(np.isfinite(covid['case_perc_change']) == False))])\n",
    "covid = covid.drop(covid.index[list(np.where(np.isfinite(covid['death_perc_change']) == False))])"
   ]
  },
  {
   "cell_type": "code",
   "execution_count": 7,
   "metadata": {},
   "outputs": [],
   "source": [
    "# get whether outcomes are increasing (0) or decreasing (1)\n",
    "covid['case_direction'] = covid['case_perc_change'].apply(lambda x: 0 if x > 0 else 1)\n",
    "covid['death_direction'] = covid['death_perc_change'].apply(lambda x: 0 if x > 0 else 1)"
   ]
  },
  {
   "cell_type": "markdown",
   "metadata": {},
   "source": [
    "#### At this point, the outcomes to be analyzed are available in four formats:\n",
    "* original: absolute and cumulative, columns confirmed_cases and deaths\n",
    "* relative to population: columns case_perc_pop, death_perc_pop\n",
    "* change over time: columns case_perc_change, death_perc_change\n",
    "* direction over time: columns case_direction, death_direction"
   ]
  },
  {
   "cell_type": "code",
   "execution_count": 8,
   "metadata": {},
   "outputs": [],
   "source": [
    "cols_outcomes = ['confirmed_cases', 'deaths','case_perc_pop', 'death_perc_pop',\n",
    "               'case_perc_change','death_perc_change','case_direction','death_direction']\n"
   ]
  },
  {
   "cell_type": "code",
   "execution_count": 9,
   "metadata": {},
   "outputs": [
    {
     "name": "stderr",
     "output_type": "stream",
     "text": [
      "/Users/lquera/opt/anaconda3/envs/DSND/lib/python3.6/site-packages/pandas/core/indexes/base.py:4114: FutureWarning: Using a non-tuple sequence for multidimensional indexing is deprecated; use `arr[tuple(seq)]` instead of `arr[seq]`. In the future this will be interpreted as an array index, `arr[np.array(seq)]`, which will result either in an error or a different result.\n",
      "  result = getitem(key)\n"
     ]
    }
   ],
   "source": [
    "# enhance the summary metric, the stringency_index\n",
    "# get the change in stringency_index\n",
    "covid['stringency_change'] = np.round(covid['stringency_index'].pct_change(), decimals=2)\n",
    "# remove calculation infinites\n",
    "covid = covid.drop(covid.index[list(np.where(np.isfinite(covid['stringency_change']) == False))])\n",
    "# get the stringency direction, are governments tightening (1) or loosening (0) policy?\n",
    "covid['stringency_direction'] = covid['stringency_change'].apply(lambda x: 0 if x < 0 else 1)\n",
    "# at this point, the summary metric is available in three formats\n",
    "cols_stringency = ['stringency_index','stringency_change','stringency_direction']"
   ]
  },
  {
   "cell_type": "code",
   "execution_count": 10,
   "metadata": {},
   "outputs": [],
   "source": [
    "# do quick cleaning step to prevent calculation errors\n",
    "if covid.isnull().sum().sum() > 0:\n",
    "    covid = covid.fillna(value=0)"
   ]
  },
  {
   "cell_type": "code",
   "execution_count": 11,
   "metadata": {},
   "outputs": [],
   "source": [
    "# monetary values are different scale from binary or ordinal rankings\n",
    "cols_financial_amts = ['income_support', 'debt_contract_relief',\n",
    "                    'fiscal_measures', 'international_support',\n",
    "                    'emergency_healthcare_investment', 'vaccine_investment']"
   ]
  },
  {
   "cell_type": "code",
   "execution_count": 12,
   "metadata": {},
   "outputs": [],
   "source": [
    "scaler = MinMaxScaler()\n",
    "for col in cols_financial_amts:\n",
    "    # scale the financial amounts to range [0..1]\n",
    "    sc_colname = 'scaled_'+col\n",
    "    covid[sc_colname] = scaler.fit_transform(covid[[col]])\n",
    "    # get the binary for whether policy was active (>0 allocated) or not\n",
    "    bi_colname = col+'_flag'\n",
    "    covid[bi_colname] = covid[col].apply(lambda x: 0 if x <= 0 else 1)"
   ]
  },
  {
   "cell_type": "code",
   "execution_count": 13,
   "metadata": {},
   "outputs": [
    {
     "name": "stdout",
     "output_type": "stream",
     "text": [
      "<class 'pandas.core.frame.DataFrame'>\n",
      "Int64Index: 73162 entries, 44 to 104488\n",
      "Data columns (total 57 columns):\n",
      " #   Column                                  Non-Null Count  Dtype         \n",
      "---  ------                                  --------------  -----         \n",
      " 0   country_name                            73162 non-null  object        \n",
      " 1   region_name                             73162 non-null  object        \n",
      " 2   date                                    73162 non-null  datetime64[ns]\n",
      " 3   school_closing                          73162 non-null  float64       \n",
      " 4   school_closing_flag                     73162 non-null  float64       \n",
      " 5   workplace_closing                       73162 non-null  float64       \n",
      " 6   workplace_closing_flag                  73162 non-null  float64       \n",
      " 7   cancel_public_events                    73162 non-null  float64       \n",
      " 8   cancel_public_events_flag               73162 non-null  float64       \n",
      " 9   restrictions_on_gatherings              73162 non-null  float64       \n",
      " 10  restrictions_on_gatherings_flag         73162 non-null  float64       \n",
      " 11  close_public_transit                    73162 non-null  float64       \n",
      " 12  close_public_transit_flag               73162 non-null  float64       \n",
      " 13  close_public_transit_notes              73162 non-null  object        \n",
      " 14  stay_at_home_requirements               73162 non-null  float64       \n",
      " 15  stay_at_home_requirements_flag          73162 non-null  float64       \n",
      " 16  restrictions_on_internal_movement       73162 non-null  float64       \n",
      " 17  restrictions_on_internal_movement_flag  73162 non-null  float64       \n",
      " 18  international_travel_controls           73162 non-null  float64       \n",
      " 19  income_support                          73162 non-null  float64       \n",
      " 20  income_support_flag                     73162 non-null  int64         \n",
      " 21  debt_contract_relief                    73162 non-null  float64       \n",
      " 22  fiscal_measures                         73162 non-null  float64       \n",
      " 23  international_support                   73162 non-null  float64       \n",
      " 24  public_information_campaigns            73162 non-null  float64       \n",
      " 25  public_information_campaigns_flag       73162 non-null  float64       \n",
      " 26  testing_policy                          73162 non-null  float64       \n",
      " 27  contact_tracing                         73162 non-null  float64       \n",
      " 28  emergency_healthcare_investment         73162 non-null  float64       \n",
      " 29  vaccine_investment                      73162 non-null  float64       \n",
      " 30  confirmed_cases                         73162 non-null  float64       \n",
      " 31  deaths                                  73162 non-null  float64       \n",
      " 32  stringency_index                        73162 non-null  float64       \n",
      " 33  density                                 73162 non-null  float64       \n",
      " 34  median_age                              73162 non-null  float64       \n",
      " 35  population                              73162 non-null  float64       \n",
      " 36  urban_perc                              73162 non-null  float64       \n",
      " 37  geo                                     73162 non-null  object        \n",
      " 38  case_perc_pop                           73162 non-null  float64       \n",
      " 39  death_perc_pop                          73162 non-null  float64       \n",
      " 40  case_perc_change                        73162 non-null  float64       \n",
      " 41  death_perc_change                       73162 non-null  float64       \n",
      " 42  case_direction                          73162 non-null  int64         \n",
      " 43  death_direction                         73162 non-null  int64         \n",
      " 44  stringency_change                       73162 non-null  float64       \n",
      " 45  stringency_direction                    73162 non-null  int64         \n",
      " 46  scaled_income_support                   73162 non-null  float64       \n",
      " 47  scaled_debt_contract_relief             73162 non-null  float64       \n",
      " 48  debt_contract_relief_flag               73162 non-null  int64         \n",
      " 49  scaled_fiscal_measures                  73162 non-null  float64       \n",
      " 50  fiscal_measures_flag                    73162 non-null  int64         \n",
      " 51  scaled_international_support            73162 non-null  float64       \n",
      " 52  international_support_flag              73162 non-null  int64         \n",
      " 53  scaled_emergency_healthcare_investment  73162 non-null  float64       \n",
      " 54  emergency_healthcare_investment_flag    73162 non-null  int64         \n",
      " 55  scaled_vaccine_investment               73162 non-null  float64       \n",
      " 56  vaccine_investment_flag                 73162 non-null  int64         \n",
      "dtypes: datetime64[ns](1), float64(43), int64(9), object(4)\n",
      "memory usage: 32.4+ MB\n"
     ]
    }
   ],
   "source": [
    "covid.info()"
   ]
  },
  {
   "cell_type": "markdown",
   "metadata": {},
   "source": [
    "#### Correlation analysis one: Policies active or not\n",
    "For the first test of correlation, let's look at the dataset flags for which policies were active, and compare them with whether cases were going up or down, using scipy.stats for Pearsons and Spearmans.\n",
    "Correlation is the degree to which any two data points are related. For statistical analysis, the <a href='https://docs.scipy.org/doc/scipy/reference/generated/scipy.stats.pearsonr.html'>Pearson correlation coefficent</a> is the degree to which they are linearly related and is represented by a float between -1.0 and 1.0. The relationship is linear only when a change in one feature is associated with a proportional change in the other. A negative coefficient indicates an inverse relationship and a zero would be no relationship at all.  The Pandas corr function uses Pearson's calculation for correlation between numeric columns. (Note: I wrote my own function using scipy.stats for a slightly cleaner output.)\n",
    "If you want a broader perspective, you can use scipy for <a href='https://docs.scipy.org/doc/scipy/reference/generated/scipy.stats.spearmanr.html'>Spearman's correlation</a>. The difference is that Spearman does not assume a constant, proportional rate of change, simply that there is a directional change.  Spearman captures monotonic relationships as well as linear relationships. Spearman is generally considered best for ranked data."
   ]
  },
  {
   "cell_type": "code",
   "execution_count": 14,
   "metadata": {},
   "outputs": [
    {
     "data": {
      "text/plain": [
       "(73162, 24)"
      ]
     },
     "execution_count": 14,
     "metadata": {},
     "output_type": "execute_result"
    }
   ],
   "source": [
    "cols_binary = ['geo','country_name', 'region_name','date',\n",
    "        'case_direction','death_direction',\n",
    "        'stringency_direction',\n",
    "       'school_closing_flag', 'workplace_closing_flag',   \n",
    "       'cancel_public_events_flag', 'restrictions_on_gatherings_flag',\n",
    "       'close_public_transit_flag',\n",
    "       'stay_at_home_requirements_flag',\n",
    "       'restrictions_on_internal_movement_flag',\n",
    "       'international_travel_controls',\n",
    "       'income_support_flag', \n",
    "       'public_information_campaigns_flag',\n",
    "       'testing_policy',\n",
    "       'contact_tracing', \n",
    "       'debt_contract_relief_flag',\n",
    "       'fiscal_measures_flag',\n",
    "       'international_support_flag',\n",
    "       'emergency_healthcare_investment_flag', \n",
    "       'vaccine_investment_flag']\n",
    "covid_binary = covid[list(covid[cols_binary])]\n",
    "covid_binary.shape"
   ]
  },
  {
   "cell_type": "code",
   "execution_count": 15,
   "metadata": {},
   "outputs": [
    {
     "data": {
      "text/html": [
       "<div>\n",
       "<style scoped>\n",
       "    .dataframe tbody tr th:only-of-type {\n",
       "        vertical-align: middle;\n",
       "    }\n",
       "\n",
       "    .dataframe tbody tr th {\n",
       "        vertical-align: top;\n",
       "    }\n",
       "\n",
       "    .dataframe thead th {\n",
       "        text-align: right;\n",
       "    }\n",
       "</style>\n",
       "<table border=\"1\" class=\"dataframe\">\n",
       "  <thead>\n",
       "    <tr style=\"text-align: right;\">\n",
       "      <th></th>\n",
       "      <th>feature</th>\n",
       "      <th>corr</th>\n",
       "    </tr>\n",
       "  </thead>\n",
       "  <tbody>\n",
       "    <tr>\n",
       "      <th>6</th>\n",
       "      <td>stay_at_home_requirements_flag</td>\n",
       "      <td>-0.113344</td>\n",
       "    </tr>\n",
       "    <tr>\n",
       "      <th>7</th>\n",
       "      <td>restrictions_on_internal_movement_flag</td>\n",
       "      <td>-0.147852</td>\n",
       "    </tr>\n",
       "    <tr>\n",
       "      <th>8</th>\n",
       "      <td>international_travel_controls</td>\n",
       "      <td>-0.153003</td>\n",
       "    </tr>\n",
       "  </tbody>\n",
       "</table>\n",
       "</div>"
      ],
      "text/plain": [
       "                                  feature      corr\n",
       "6          stay_at_home_requirements_flag -0.113344\n",
       "7  restrictions_on_internal_movement_flag -0.147852\n",
       "8           international_travel_controls -0.153003"
      ]
     },
     "execution_count": 15,
     "metadata": {},
     "output_type": "execute_result"
    }
   ],
   "source": [
    "# get pearsons coefficient on binary policies and directional change in cases\n",
    "cols_to_check = cols_binary[6:]\n",
    "binary_corr = du.get_pearsons_corr(covid_binary, cols_to_check, 'case_direction')\n",
    "impt_binaries = binary_corr.loc[(abs(binary_corr['corr']) > 0.10)]\n",
    "impt_binaries.head()"
   ]
  },
  {
   "cell_type": "code",
   "execution_count": 16,
   "metadata": {},
   "outputs": [
    {
     "data": {
      "text/html": [
       "<div>\n",
       "<style scoped>\n",
       "    .dataframe tbody tr th:only-of-type {\n",
       "        vertical-align: middle;\n",
       "    }\n",
       "\n",
       "    .dataframe tbody tr th {\n",
       "        vertical-align: top;\n",
       "    }\n",
       "\n",
       "    .dataframe thead th {\n",
       "        text-align: right;\n",
       "    }\n",
       "</style>\n",
       "<table border=\"1\" class=\"dataframe\">\n",
       "  <thead>\n",
       "    <tr style=\"text-align: right;\">\n",
       "      <th></th>\n",
       "      <th>feature</th>\n",
       "      <th>corr</th>\n",
       "    </tr>\n",
       "  </thead>\n",
       "  <tbody>\n",
       "    <tr>\n",
       "      <th>6</th>\n",
       "      <td>stay_at_home_requirements_flag</td>\n",
       "      <td>-0.113344</td>\n",
       "    </tr>\n",
       "    <tr>\n",
       "      <th>7</th>\n",
       "      <td>restrictions_on_internal_movement_flag</td>\n",
       "      <td>-0.147852</td>\n",
       "    </tr>\n",
       "    <tr>\n",
       "      <th>8</th>\n",
       "      <td>international_travel_controls</td>\n",
       "      <td>-0.153692</td>\n",
       "    </tr>\n",
       "  </tbody>\n",
       "</table>\n",
       "</div>"
      ],
      "text/plain": [
       "                                  feature      corr\n",
       "6          stay_at_home_requirements_flag -0.113344\n",
       "7  restrictions_on_internal_movement_flag -0.147852\n",
       "8           international_travel_controls -0.153692"
      ]
     },
     "execution_count": 16,
     "metadata": {},
     "output_type": "execute_result"
    }
   ],
   "source": [
    "# try spearmans to get directional relationships\n",
    "spearman_corr = du.get_spearmans_corr(covid_binary, cols_to_check, 'case_direction')\n",
    "impt_sc_bin = spearman_corr.loc[(abs(spearman_corr['corr']) > 0.10)]\n",
    "impt_sc_bin.head()"
   ]
  },
  {
   "cell_type": "code",
   "execution_count": 17,
   "metadata": {},
   "outputs": [],
   "source": [
    "cols_ordinal = ['geo','country_name', 'region_name','date',\n",
    "                'case_direction','death_direction',\n",
    "                'stringency_index',\n",
    "                'school_closing', 'workplace_closing',\n",
    "                'cancel_public_events', 'restrictions_on_gatherings',\n",
    "                'close_public_transit', 'stay_at_home_requirements', \n",
    "                'restrictions_on_internal_movement','international_travel_controls',\n",
    "                'public_information_campaigns','testing_policy',\n",
    "                'contact_tracing',\n",
    "                'scaled_income_support', 'scaled_debt_contract_relief',\n",
    "               'scaled_fiscal_measures','scaled_international_support',\n",
    "               'scaled_emergency_healthcare_investment','scaled_vaccine_investment',\n",
    "               ]"
   ]
  },
  {
   "cell_type": "code",
   "execution_count": 18,
   "metadata": {},
   "outputs": [
    {
     "data": {
      "text/plain": [
       "(73162, 24)"
      ]
     },
     "execution_count": 18,
     "metadata": {},
     "output_type": "execute_result"
    }
   ],
   "source": [
    "covid_ordinal = covid[list(covid[cols_ordinal])]\n",
    "covid_ordinal.shape"
   ]
  },
  {
   "cell_type": "code",
   "execution_count": 19,
   "metadata": {},
   "outputs": [
    {
     "data": {
      "text/html": [
       "<div>\n",
       "<style scoped>\n",
       "    .dataframe tbody tr th:only-of-type {\n",
       "        vertical-align: middle;\n",
       "    }\n",
       "\n",
       "    .dataframe tbody tr th {\n",
       "        vertical-align: top;\n",
       "    }\n",
       "\n",
       "    .dataframe thead th {\n",
       "        text-align: right;\n",
       "    }\n",
       "</style>\n",
       "<table border=\"1\" class=\"dataframe\">\n",
       "  <thead>\n",
       "    <tr style=\"text-align: right;\">\n",
       "      <th></th>\n",
       "      <th>feature</th>\n",
       "      <th>corr</th>\n",
       "    </tr>\n",
       "  </thead>\n",
       "  <tbody>\n",
       "    <tr>\n",
       "      <th>0</th>\n",
       "      <td>stringency_index</td>\n",
       "      <td>-0.255482</td>\n",
       "    </tr>\n",
       "    <tr>\n",
       "      <th>1</th>\n",
       "      <td>school_closing</td>\n",
       "      <td>-0.233336</td>\n",
       "    </tr>\n",
       "    <tr>\n",
       "      <th>2</th>\n",
       "      <td>workplace_closing</td>\n",
       "      <td>-0.218563</td>\n",
       "    </tr>\n",
       "    <tr>\n",
       "      <th>3</th>\n",
       "      <td>cancel_public_events</td>\n",
       "      <td>-0.176596</td>\n",
       "    </tr>\n",
       "    <tr>\n",
       "      <th>4</th>\n",
       "      <td>restrictions_on_gatherings</td>\n",
       "      <td>-0.139175</td>\n",
       "    </tr>\n",
       "  </tbody>\n",
       "</table>\n",
       "</div>"
      ],
      "text/plain": [
       "                      feature      corr\n",
       "0            stringency_index -0.255482\n",
       "1              school_closing -0.233336\n",
       "2           workplace_closing -0.218563\n",
       "3        cancel_public_events -0.176596\n",
       "4  restrictions_on_gatherings -0.139175"
      ]
     },
     "execution_count": 19,
     "metadata": {},
     "output_type": "execute_result"
    }
   ],
   "source": [
    "ords_to_check = cols_ordinal[6:]\n",
    "pc_ordinal_corr = du.get_pearsons_corr(covid_ordinal, ords_to_check, 'case_direction')\n",
    "impt_ordinals = pc_ordinal_corr.loc[(abs(pc_ordinal_corr['corr']) > 0.10)]\n",
    "impt_ordinals.head()"
   ]
  },
  {
   "cell_type": "code",
   "execution_count": 20,
   "metadata": {},
   "outputs": [
    {
     "data": {
      "text/html": [
       "<div>\n",
       "<style scoped>\n",
       "    .dataframe tbody tr th:only-of-type {\n",
       "        vertical-align: middle;\n",
       "    }\n",
       "\n",
       "    .dataframe tbody tr th {\n",
       "        vertical-align: top;\n",
       "    }\n",
       "\n",
       "    .dataframe thead th {\n",
       "        text-align: right;\n",
       "    }\n",
       "</style>\n",
       "<table border=\"1\" class=\"dataframe\">\n",
       "  <thead>\n",
       "    <tr style=\"text-align: right;\">\n",
       "      <th></th>\n",
       "      <th>feature</th>\n",
       "      <th>corr</th>\n",
       "    </tr>\n",
       "  </thead>\n",
       "  <tbody>\n",
       "    <tr>\n",
       "      <th>0</th>\n",
       "      <td>stringency_index</td>\n",
       "      <td>-0.240809</td>\n",
       "    </tr>\n",
       "    <tr>\n",
       "      <th>1</th>\n",
       "      <td>school_closing</td>\n",
       "      <td>-0.230582</td>\n",
       "    </tr>\n",
       "    <tr>\n",
       "      <th>2</th>\n",
       "      <td>workplace_closing</td>\n",
       "      <td>-0.203351</td>\n",
       "    </tr>\n",
       "    <tr>\n",
       "      <th>3</th>\n",
       "      <td>cancel_public_events</td>\n",
       "      <td>-0.160389</td>\n",
       "    </tr>\n",
       "    <tr>\n",
       "      <th>4</th>\n",
       "      <td>restrictions_on_gatherings</td>\n",
       "      <td>-0.162824</td>\n",
       "    </tr>\n",
       "  </tbody>\n",
       "</table>\n",
       "</div>"
      ],
      "text/plain": [
       "                      feature      corr\n",
       "0            stringency_index -0.240809\n",
       "1              school_closing -0.230582\n",
       "2           workplace_closing -0.203351\n",
       "3        cancel_public_events -0.160389\n",
       "4  restrictions_on_gatherings -0.162824"
      ]
     },
     "execution_count": 20,
     "metadata": {},
     "output_type": "execute_result"
    }
   ],
   "source": [
    "# try spearmans to get directional relationships\n",
    "sc_ordinal_corr = du.get_spearmans_corr(covid_ordinal, ords_to_check, 'case_direction')\n",
    "impt_sc_ord = sc_ordinal_corr.loc[(abs(sc_ordinal_corr['corr']) > 0.10)]\n",
    "impt_sc_ord.head()"
   ]
  },
  {
   "cell_type": "markdown",
   "metadata": {},
   "source": [
    "#### Build data visualizations to demonstrate data explorations\n",
    "Let's visualize some of the features showing correlations."
   ]
  },
  {
   "cell_type": "code",
   "execution_count": 21,
   "metadata": {},
   "outputs": [
    {
     "data": {
      "image/png": "[encoded data removed]",
      "text/plain": [
       "<Figure size 216x216 with 1 Axes>"
      ]
     },
     "metadata": {
      "needs_background": "light"
     },
     "output_type": "display_data"
    }
   ],
   "source": [
    "#covid['stringency_index'].hist()\n",
    "fig, ax = plt.subplots(figsize=(3,3))\n",
    "covid.hist('stringency_index', ax=ax)\n",
    "ax.set_title('Stringency Index')\n",
    "fig.savefig('stringency_index_hist_3x3.png', bbox_inches='tight')\n",
    "plt.show()"
   ]
  },
  {
   "cell_type": "code",
   "execution_count": 22,
   "metadata": {},
   "outputs": [
    {
     "data": {
      "image/png": "[encoded data removed]",
      "text/plain": [
       "<Figure size 216x216 with 1 Axes>"
      ]
     },
     "metadata": {
      "needs_background": "light"
     },
     "output_type": "display_data"
    }
   ],
   "source": [
    "# covid['school_closing'].hist()\n",
    "fig, ax = plt.subplots(figsize=(3,3))\n",
    "covid.hist('school_closing', ax=ax)\n",
    "ax.set_title('School Closing')\n",
    "fig.savefig('school_closing_hist_3x3.png', bbox_inches='tight')\n",
    "plt.show()"
   ]
  },
  {
   "cell_type": "code",
   "execution_count": 23,
   "metadata": {},
   "outputs": [
    {
     "data": {
      "image/png": "[encoded data removed]",
      "text/plain": [
       "<Figure size 216x216 with 1 Axes>"
      ]
     },
     "metadata": {
      "needs_background": "light"
     },
     "output_type": "display_data"
    }
   ],
   "source": [
    "# covid['workplace_closing'].hist()\n",
    "fig, ax = plt.subplots(figsize=(3,3))\n",
    "covid.hist('workplace_closing', ax=ax)\n",
    "ax.set_title('Workplace Closing')\n",
    "fig.savefig('workplace_closing_hist_3x3.png', bbox_inches='tight')\n",
    "plt.show()"
   ]
  },
  {
   "cell_type": "code",
   "execution_count": 24,
   "metadata": {},
   "outputs": [
    {
     "data": {
      "image/png": "[encoded data removed]",
      "text/plain": [
       "<Figure size 216x216 with 1 Axes>"
      ]
     },
     "metadata": {
      "needs_background": "light"
     },
     "output_type": "display_data"
    }
   ],
   "source": [
    "# covid['international_travel_controls'].hist()\n",
    "fig, ax = plt.subplots(figsize=(3,3))\n",
    "covid.hist('international_travel_controls', ax=ax)\n",
    "ax.set_title('International Travel Controls')\n",
    "fig.savefig('international_travel_contols_hist_3x3.png', bbox_inches='tight')\n",
    "plt.show()"
   ]
  },
  {
   "cell_type": "code",
   "execution_count": 25,
   "metadata": {},
   "outputs": [],
   "source": [
    "potential_factors = ['stringency_index','school_closing',\n",
    "                'workplace_closing', 'international_travel_controls']"
   ]
  },
  {
   "cell_type": "code",
   "execution_count": 26,
   "metadata": {},
   "outputs": [
    {
     "name": "stderr",
     "output_type": "stream",
     "text": [
      "/Users/lquera/Dropbox/DSND/DSND_Project_Capstone/data_utilities.py:287: SettingWithCopyWarning: \n",
      "A value is trying to be set on a copy of a slice from a DataFrame.\n",
      "Try using .loc[row_indexer,col_indexer] = value instead\n",
      "\n",
      "See the caveats in the documentation: https://pandas.pydata.org/pandas-docs/stable/user_guide/indexing.html#returning-a-view-versus-a-copy\n",
      "  comp_df['date'] = pd.to_datetime(comp_df['date'])\n"
     ]
    },
    {
     "data": {
      "image/png": "[encoded data removed]",
      "text/plain": [
       "<Figure size 432x288 with 1 Axes>"
      ]
     },
     "metadata": {
      "needs_background": "light"
     },
     "output_type": "display_data"
    },
    {
     "data": {
      "text/plain": [
       "<Figure size 432x288 with 0 Axes>"
      ]
     },
     "metadata": {},
     "output_type": "display_data"
    }
   ],
   "source": [
    "du.compare_policy_outcomes(covid, 'Canada', 'stringency_index', 'case_direction')"
   ]
  },
  {
   "cell_type": "code",
   "execution_count": 27,
   "metadata": {},
   "outputs": [],
   "source": [
    "cols_demos = ['geo','country_name', 'region_name','date',\n",
    "                'case_perc_pop','death_perc_pop',\n",
    "                'urban_perc', 'median_age','density'\n",
    "               ]"
   ]
  },
  {
   "cell_type": "code",
   "execution_count": 28,
   "metadata": {},
   "outputs": [
    {
     "data": {
      "text/plain": [
       "(73162, 9)"
      ]
     },
     "execution_count": 28,
     "metadata": {},
     "output_type": "execute_result"
    }
   ],
   "source": [
    "covid_demos = covid[list(covid[cols_demos])]\n",
    "covid_demos.shape"
   ]
  },
  {
   "cell_type": "code",
   "execution_count": 29,
   "metadata": {},
   "outputs": [
    {
     "data": {
      "text/html": [
       "<div>\n",
       "<style scoped>\n",
       "    .dataframe tbody tr th:only-of-type {\n",
       "        vertical-align: middle;\n",
       "    }\n",
       "\n",
       "    .dataframe tbody tr th {\n",
       "        vertical-align: top;\n",
       "    }\n",
       "\n",
       "    .dataframe thead th {\n",
       "        text-align: right;\n",
       "    }\n",
       "</style>\n",
       "<table border=\"1\" class=\"dataframe\">\n",
       "  <thead>\n",
       "    <tr style=\"text-align: right;\">\n",
       "      <th></th>\n",
       "      <th>feature</th>\n",
       "      <th>corr</th>\n",
       "    </tr>\n",
       "  </thead>\n",
       "  <tbody>\n",
       "  </tbody>\n",
       "</table>\n",
       "</div>"
      ],
      "text/plain": [
       "Empty DataFrame\n",
       "Columns: [feature, corr]\n",
       "Index: []"
      ]
     },
     "execution_count": 29,
     "metadata": {},
     "output_type": "execute_result"
    }
   ],
   "source": [
    "# just to validate the use of scatter plot rather than scipy corrs\n",
    "demos_to_check = cols_demos[6:]\n",
    "pc_demos_corr = du.get_pearsons_corr(covid_demos, demos_to_check, 'case_perc_pop')\n",
    "impt_demos = pc_demos_corr.loc[(abs(pc_demos_corr['corr']) > 0.10)]\n",
    "impt_demos.head()"
   ]
  },
  {
   "cell_type": "code",
   "execution_count": 30,
   "metadata": {},
   "outputs": [
    {
     "data": {
      "image/png": "[encoded data removed]",
      "text/plain": [
       "<Figure size 360x360 with 1 Axes>"
      ]
     },
     "metadata": {
      "needs_background": "light"
     },
     "output_type": "display_data"
    }
   ],
   "source": [
    "#pd.plotting.scatter_matrix(covid_demos[['case_perc_pop','urban_perc']], figsize=(15,15))\n",
    "\n",
    "plt.scatter(covid_demos['case_perc_pop'], covid_demos['urban_perc'])\n",
    "plt.xlabel('Cases as percent of population')\n",
    "plt.ylabel('Percent of population in cities')\n",
    "plt.title('Population contagion compared to city-living percentage')\n",
    "fig = plt.gcf()\n",
    "fig.set_size_inches(5,5)\n",
    "plt.savefig('case_perc_pop_and_urban_perc_5x5.png')\n",
    "plt.show()"
   ]
  },
  {
   "cell_type": "code",
   "execution_count": 31,
   "metadata": {},
   "outputs": [
    {
     "data": {
      "image/png": "[encoded data removed]",
      "text/plain": [
       "<Figure size 360x360 with 1 Axes>"
      ]
     },
     "metadata": {
      "needs_background": "light"
     },
     "output_type": "display_data"
    }
   ],
   "source": [
    "plt.scatter(covid_demos['death_perc_pop'], covid_demos['median_age'])\n",
    "plt.xlabel('Deaths as percent of population')\n",
    "plt.ylabel('Median age of population')\n",
    "plt.title('Population casualty rate compared median age.')\n",
    "fig = plt.gcf()\n",
    "fig.set_size_inches(5,5)\n",
    "plt.savefig('death_perc_pop_and_median_age_5x5.png')\n",
    "plt.show()"
   ]
  },
  {
   "cell_type": "markdown",
   "metadata": {},
   "source": [
    "## Modeling for feature understanding"
   ]
  },
  {
   "cell_type": "markdown",
   "metadata": {},
   "source": [
    "Another approach to understanding policies and outcomes, is to use models to identify which features improve predictive capability. Let's look at feature selection and feature importance.\n",
    "\n",
    "Feature selection is the process of testing the relationships between each training feature and the target feature and selecting the ones with the strongest relationship. It shows the impact of the variable on the model success metric and the higher it is, the more valuable the feature's predictive capability. Negative feature importance means that the feature increases the loss and either the model is underfitting or the model would benefit from removing the feature.\n",
    "\n",
    "SelectKBest is a univariate method that uses statistical means to evaluate the relationships and keeps the K highest-scoring features. RFE (Recursive Feature Elimination) fits a model on all features and then recursively eliminates the one with the lowest importance score until it gets to the K highest scoring features.\n",
    "\n",
    "You can use feature selection in your model training process and then access the feature_importance_ attribute to visualize which features impacted the model most.  I chose Random Forests (an ensemble of bagged Decision Trees) because the random splits create better tree diversity with less overfitting than simple Decision Trees. The feature importances are weighted averages of how much the feature reduces impurities across all trees in the forest.\n",
    "\n",
    "First, let’s look at using SelectKBest feature selection for a RandomForestRegressor optimized for the Mean Absolute Error."
   ]
  },
  {
   "cell_type": "markdown",
   "metadata": {},
   "source": [
    "A note on metrics: MAE, mean absolute error, is best suited to the task at hand because my goal is interpretability, teasing out the underlying relationships of policies and outcomes.  MAE is considered superior for interpretability because it simply describes average errors and is not as impacted by test sample size.  The downside is the significantly larger computation time. (“When the random forest regressor optimizes for MSE it optimizes for the L2-norm and a mean-based impurity metric. But when the regressor uses the MAE criterion it optimizes for the L1-norm which amounts to calculating the median.”[https://stackoverflow.com/questions/57243267/why-is-training-a-random-forest-regressor-with-mae-criterion-so-slow-compared-to])"
   ]
  },
  {
   "cell_type": "code",
   "execution_count": 32,
   "metadata": {},
   "outputs": [],
   "source": [
    "# Define training data parameters\n",
    "model_data = covid\n",
    "train_cols = cols_ordinal[6:]\n",
    "target = 'case_perc_change'\n",
    "# Feature Selection\n",
    "n_features = 12\n",
    "selection = 'stat'\n",
    "problem_type = 'regression'\n",
    "scoring = 'f_regression'\n",
    "# Data Splitting\n",
    "test_size = 0.30\n",
    "random_state = 17\n",
    "# RandomForest\n",
    "n_estimators = 100\n",
    "criterion = 'mae'"
   ]
  },
  {
   "cell_type": "code",
   "execution_count": 33,
   "metadata": {},
   "outputs": [
    {
     "name": "stdout",
     "output_type": "stream",
     "text": [
      "(51213, 12) (51213,) (21949, 12) (21949,)\n"
     ]
    },
    {
     "name": "stderr",
     "output_type": "stream",
     "text": [
      "/Users/lquera/opt/anaconda3/envs/DSND/lib/python3.6/site-packages/pandas/core/indexing.py:670: SettingWithCopyWarning: \n",
      "A value is trying to be set on a copy of a slice from a DataFrame\n",
      "\n",
      "See the caveats in the documentation: https://pandas.pydata.org/pandas-docs/stable/user_guide/indexing.html#returning-a-view-versus-a-copy\n",
      "  iloc._setitem_with_indexer(indexer, value)\n",
      "/Users/lquera/opt/anaconda3/envs/DSND/lib/python3.6/site-packages/pandas/core/indexing.py:670: SettingWithCopyWarning: \n",
      "A value is trying to be set on a copy of a slice from a DataFrame\n",
      "\n",
      "See the caveats in the documentation: https://pandas.pydata.org/pandas-docs/stable/user_guide/indexing.html#returning-a-view-versus-a-copy\n",
      "  iloc._setitem_with_indexer(indexer, value)\n"
     ]
    }
   ],
   "source": [
    "X_train, X_test, y_train, y_test, stat_features_used = mu.get_train_test_data(\n",
    "            model_data, train_cols, target,\n",
    "            problem_type=problem_type,\n",
    "            scoring=scoring,\n",
    "            n_features=n_features,\n",
    "            selection=selection,\n",
    "            test_size=test_size)\n",
    "print(X_train.shape, y_train.shape, X_test.shape, y_test.shape)"
   ]
  },
  {
   "cell_type": "code",
   "execution_count": 35,
   "metadata": {},
   "outputs": [
    {
     "name": "stdout",
     "output_type": "stream",
     "text": [
      "RandomForestRegressor\n",
      "R2 train: -0.000, test: -0.000\n",
      "MSE train: 53075.534, test: 4885.406\n",
      "MAE train: 1.119, test: 0.529\n"
     ]
    }
   ],
   "source": [
    "rfstat = RandomForestRegressor(n_estimators=n_estimators,\n",
    "                           criterion=criterion,\n",
    "                           random_state=random_state,\n",
    "                           n_jobs=-1)\n",
    "rfstat, rfstat_results = mu.train_and_score_model(rfstat, X_train, y_train, X_test, y_test, problem_type,\n",
    "                                       'RandomForestRegressor')"
   ]
  },
  {
   "cell_type": "code",
   "execution_count": 36,
   "metadata": {},
   "outputs": [
    {
     "data": {
      "image/png": "[encoded data removed]",
      "text/plain": [
       "<Figure size 720x720 with 1 Axes>"
      ]
     },
     "metadata": {
      "needs_background": "light"
     },
     "output_type": "display_data"
    }
   ],
   "source": [
    "mu.visualize_feature_importance(rfstat, X_train, stat_features_used, selection, 'tree')"
   ]
  },
  {
   "cell_type": "markdown",
   "metadata": {},
   "source": [
    "#### Does Recursive Feature Elimination return different features?\n",
    "Next, let’s look at using Recursive Feature Elimination feature selection for a RandomForestRegressor optimized for the Mean Absolute Error"
   ]
  },
  {
   "cell_type": "code",
   "execution_count": 37,
   "metadata": {},
   "outputs": [],
   "source": [
    "# Define training data parameters\n",
    "model_data = covid\n",
    "train_cols = cols_ordinal[6:]\n",
    "target = 'case_perc_change'\n",
    "# Feature Selection\n",
    "n_features = 12\n",
    "selection = 'RFE'\n",
    "problem_type = 'regression'\n",
    "scoring = 'f_regression'\n",
    "# Data Splitting\n",
    "test_size = 0.30\n",
    "random_state = 17\n",
    "# RandomForest\n",
    "n_estimators = 30\n",
    "criterion = 'mae'"
   ]
  },
  {
   "cell_type": "code",
   "execution_count": 38,
   "metadata": {},
   "outputs": [
    {
     "name": "stderr",
     "output_type": "stream",
     "text": [
      "/Users/lquera/opt/anaconda3/envs/DSND/lib/python3.6/site-packages/pandas/core/indexing.py:670: SettingWithCopyWarning: \n",
      "A value is trying to be set on a copy of a slice from a DataFrame\n",
      "\n",
      "See the caveats in the documentation: https://pandas.pydata.org/pandas-docs/stable/user_guide/indexing.html#returning-a-view-versus-a-copy\n",
      "  iloc._setitem_with_indexer(indexer, value)\n",
      "/Users/lquera/opt/anaconda3/envs/DSND/lib/python3.6/site-packages/pandas/core/indexing.py:670: SettingWithCopyWarning: \n",
      "A value is trying to be set on a copy of a slice from a DataFrame\n",
      "\n",
      "See the caveats in the documentation: https://pandas.pydata.org/pandas-docs/stable/user_guide/indexing.html#returning-a-view-versus-a-copy\n",
      "  iloc._setitem_with_indexer(indexer, value)\n"
     ]
    },
    {
     "name": "stdout",
     "output_type": "stream",
     "text": [
      "[2 1 1 1 1 1 1 1 1 1 5 6 4 7 1 3 1 1]\n",
      "drop stringency_index\n",
      "keep school_closing\n",
      "keep workplace_closing\n",
      "keep cancel_public_events\n",
      "keep restrictions_on_gatherings\n",
      "keep close_public_transit\n",
      "keep stay_at_home_requirements\n",
      "keep restrictions_on_internal_movement\n",
      "keep international_travel_controls\n",
      "keep public_information_campaigns\n",
      "drop testing_policy\n",
      "drop contact_tracing\n",
      "drop scaled_income_support\n",
      "drop scaled_debt_contract_relief\n",
      "keep scaled_fiscal_measures\n",
      "drop scaled_international_support\n",
      "keep scaled_emergency_healthcare_investment\n",
      "keep scaled_vaccine_investment\n",
      "(51213, 12) (51213,) (21949, 12) (21949,)\n"
     ]
    }
   ],
   "source": [
    "X_train, X_test, y_train, y_test, rfe_features_used = mu.get_train_test_data(\n",
    "            model_data, train_cols, target,\n",
    "            problem_type=problem_type,\n",
    "            scoring=scoring,\n",
    "            n_features=n_features,\n",
    "            selection=selection,\n",
    "            test_size=test_size)\n",
    "print(X_train.shape, y_train.shape, X_test.shape, y_test.shape)"
   ]
  },
  {
   "cell_type": "code",
   "execution_count": 39,
   "metadata": {},
   "outputs": [
    {
     "name": "stdout",
     "output_type": "stream",
     "text": [
      "RandomForestRegressor\n",
      "R2 train: -0.000, test: -0.000\n",
      "MSE train: 53075.833, test: 4885.421\n",
      "MAE train: 1.121, test: 0.531\n"
     ]
    }
   ],
   "source": [
    "rfrfe = RandomForestRegressor(n_estimators=n_estimators,\n",
    "                           criterion=criterion,\n",
    "                           random_state=random_state,\n",
    "                           n_jobs=-1)\n",
    "rfrfe, rfrfe_results = mu.train_and_score_model(rfrfe, X_train, y_train, X_test, y_test, problem_type,\n",
    "                                       'RandomForestRegressor')"
   ]
  },
  {
   "cell_type": "code",
   "execution_count": 40,
   "metadata": {},
   "outputs": [
    {
     "data": {
      "image/png": "[encoded data removed]",
      "text/plain": [
       "<Figure size 720x720 with 1 Axes>"
      ]
     },
     "metadata": {
      "needs_background": "light"
     },
     "output_type": "display_data"
    }
   ],
   "source": [
    "mu.visualize_feature_importance(rfrfe, X_train, rfe_features_used, selection, 'tree')"
   ]
  },
  {
   "cell_type": "markdown",
   "metadata": {},
   "source": [
    "### Reframe as binary classification problem\n",
    "Lastly, since we calculated the directional change of the outcomes, we can reformulate the problem to a binary classification - cases up or cases down. Let’s see if that makes anything clearer using SelectKBest feature selection for a RandomForestClassifier optimized for information gain, ie. entropy."
   ]
  },
  {
   "cell_type": "code",
   "execution_count": 43,
   "metadata": {},
   "outputs": [],
   "source": [
    "# Define training data parameters\n",
    "model_data = covid\n",
    "train_cols = cols_ordinal[6:]\n",
    "target = 'case_direction'\n",
    "# Feature Selection\n",
    "n_features = 12\n",
    "selection = 'stat'\n",
    "problem_type = 'classification'\n",
    "scoring = 'chi2'\n",
    "# Data Splitting\n",
    "test_size = 0.30\n",
    "random_state = 17\n",
    "# RandomForest\n",
    "n_estimators = 30\n",
    "criterion = 'entropy'"
   ]
  },
  {
   "cell_type": "code",
   "execution_count": 44,
   "metadata": {},
   "outputs": [
    {
     "name": "stdout",
     "output_type": "stream",
     "text": [
      "(51213, 12) (51213,) (21949, 12) (21949,)\n"
     ]
    },
    {
     "name": "stderr",
     "output_type": "stream",
     "text": [
      "/Users/lquera/opt/anaconda3/envs/DSND/lib/python3.6/site-packages/pandas/core/indexing.py:670: SettingWithCopyWarning: \n",
      "A value is trying to be set on a copy of a slice from a DataFrame\n",
      "\n",
      "See the caveats in the documentation: https://pandas.pydata.org/pandas-docs/stable/user_guide/indexing.html#returning-a-view-versus-a-copy\n",
      "  iloc._setitem_with_indexer(indexer, value)\n",
      "/Users/lquera/opt/anaconda3/envs/DSND/lib/python3.6/site-packages/pandas/core/indexing.py:670: SettingWithCopyWarning: \n",
      "A value is trying to be set on a copy of a slice from a DataFrame\n",
      "\n",
      "See the caveats in the documentation: https://pandas.pydata.org/pandas-docs/stable/user_guide/indexing.html#returning-a-view-versus-a-copy\n",
      "  iloc._setitem_with_indexer(indexer, value)\n"
     ]
    }
   ],
   "source": [
    "X_train, X_test, y_train, y_test, rfc_features_used = mu.get_train_test_data(\n",
    "            model_data, train_cols, target,\n",
    "            problem_type=problem_type,\n",
    "            scoring=scoring,\n",
    "            n_features=n_features,\n",
    "            selection=selection,\n",
    "            test_size=test_size)\n",
    "print(X_train.shape, y_train.shape, X_test.shape, y_test.shape)"
   ]
  },
  {
   "cell_type": "code",
   "execution_count": 45,
   "metadata": {},
   "outputs": [
    {
     "name": "stdout",
     "output_type": "stream",
     "text": [
      "RandomForestClassifier\n",
      "Accuracy train: 0.860, test: 0.837\n",
      "Precision train: 0.810, test: 0.781\n",
      "Recall train: 0.754, test: 0.721\n"
     ]
    }
   ],
   "source": [
    "rfc = RandomForestClassifier(n_estimators=n_estimators,\n",
    "                           criterion=criterion,\n",
    "                           random_state=random_state,\n",
    "                           n_jobs=-1)\n",
    "rfc, rfc_results = mu.train_and_score_model(rfc, X_train, y_train, X_test, y_test, problem_type,\n",
    "                                       'RandomForestClassifier')"
   ]
  },
  {
   "cell_type": "code",
   "execution_count": 46,
   "metadata": {},
   "outputs": [
    {
     "data": {
      "image/png": "[encoded data removed]",
      "text/plain": [
       "<Figure size 720x720 with 1 Axes>"
      ]
     },
     "metadata": {
      "needs_background": "light"
     },
     "output_type": "display_data"
    }
   ],
   "source": [
    "mu.visualize_feature_importance(rfc, X_train, rfc_features_used, selection, 'tree')"
   ]
  },
  {
   "cell_type": "code",
   "execution_count": null,
   "metadata": {},
   "outputs": [],
   "source": []
  }
 ],
 "metadata": {
  "kernelspec": {
   "display_name": "Python 3",
   "language": "python",
   "name": "python3"
  },
  "language_info": {
   "codemirror_mode": {
    "name": "ipython",
    "version": 3
   },
   "file_extension": ".py",
   "mimetype": "text/x-python",
   "name": "python",
   "nbconvert_exporter": "python",
   "pygments_lexer": "ipython3",
   "version": "3.6.10"
  }
 },
 "nbformat": 4,
 "nbformat_minor": 4
}
